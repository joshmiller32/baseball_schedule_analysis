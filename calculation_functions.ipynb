{
 "cells": [
  {
   "cell_type": "code",
   "execution_count": 53,
   "metadata": {},
   "outputs": [],
   "source": [
    "import pandas as pd\n",
    "import plotly.figure_factory as ff\n",
    "import plotly.graph_objects as go\n",
    "import streamlit as st"
   ]
  },
  {
   "cell_type": "code",
   "execution_count": 2,
   "metadata": {},
   "outputs": [],
   "source": [
    "def get_schedule_df():\n",
    "    columns = [x for x in range(1,31)]\n",
    "    schedule_81= pd.read_csv('./Data/81_game_schedule.csv', usecols = columns)\n",
    "    schedule_110 = pd.read_csv('./Data/110_game_schedule.csv', usecols = columns)\n",
    "    schedule_140 = pd.read_csv('./Data/140_game_schedule.csv', usecols = columns)\n",
    "    schedule_162 = pd.read_csv('./Data/162_game_schedule.csv', usecols = columns)\n",
    "    dataframes_names = [schedule_81, schedule_110, schedule_140, schedule_162]\n",
    "    dataframes = []\n",
    "    for df in dataframes_names:\n",
    "        dataframes.append(df)\n",
    "    return dataframes"
   ]
  },
  {
   "cell_type": "code",
   "execution_count": 3,
   "metadata": {},
   "outputs": [],
   "source": [
    "def opp_win_pct():\n",
    "    dataframes = get_schedule_df()\n",
    "    opp_win_pct_dfs = []\n",
    "    for df in dataframes:\n",
    "        df = pd.DataFrame(df.mean(axis = 0))\n",
    "        df.columns = ['Opp_Win_Pct']\n",
    "        opp_win_pct_dfs.append(df)\n",
    "    return opp_win_pct_dfs\n",
    "    "
   ]
  },
  {
   "cell_type": "code",
   "execution_count": 44,
   "metadata": {},
   "outputs": [],
   "source": [
    "def pct_of_games_against_500_teams():\n",
    "    dataframes = get_schedule_df()\n",
    "    pct_games_against_500_dfs = []\n",
    "    for df in dataframes:\n",
    "        pct_games_over_500 = (df[df >= 0.5].count()) / (len(df))\n",
    "        pct_games_against_500_dfs.append(pct_games_over_500)\n",
    "    return pct_games_against_500_dfs"
   ]
  },
  {
   "cell_type": "code",
   "execution_count": 47,
   "metadata": {},
   "outputs": [],
   "source": [
    "def number_of_games_against_500_teams():\n",
    "    dataframes = get_schedule_df()\n",
    "    games_over_500_dfs = []\n",
    "    for df in dataframes:\n",
    "        games_over_500 = pd.DataFrame(df[df >= 0.5].count())\n",
    "        games_over_500.columns = ['Games']\n",
    "        games_over_500_dfs.append(games_over_500) \n",
    "    return games_over_500_dfs\n"
   ]
  },
  {
   "cell_type": "code",
   "execution_count": null,
   "metadata": {},
   "outputs": [],
   "source": []
  },
  {
   "cell_type": "code",
   "execution_count": null,
   "metadata": {},
   "outputs": [],
   "source": []
  },
  {
   "cell_type": "code",
   "execution_count": 50,
   "metadata": {},
   "outputs": [],
   "source": [
    "games_500_82_season = pd.DataFrame(games_500[0])\n",
    "games_500_82_season = games_500_82_season.sort_values(by = 'Games', ascending = False).reset_index()"
   ]
  },
  {
   "cell_type": "code",
   "execution_count": null,
   "metadata": {},
   "outputs": [],
   "source": []
  },
  {
   "cell_type": "code",
   "execution_count": 51,
   "metadata": {},
   "outputs": [],
   "source": []
  },
  {
   "cell_type": "code",
   "execution_count": null,
   "metadata": {},
   "outputs": [],
   "source": []
  },
  {
   "cell_type": "code",
   "execution_count": null,
   "metadata": {},
   "outputs": [],
   "source": []
  },
  {
   "cell_type": "code",
   "execution_count": null,
   "metadata": {},
   "outputs": [],
   "source": []
  },
  {
   "cell_type": "code",
   "execution_count": null,
   "metadata": {},
   "outputs": [],
   "source": []
  },
  {
   "cell_type": "code",
   "execution_count": null,
   "metadata": {},
   "outputs": [],
   "source": []
  },
  {
   "cell_type": "code",
   "execution_count": null,
   "metadata": {},
   "outputs": [],
   "source": []
  },
  {
   "cell_type": "code",
   "execution_count": null,
   "metadata": {},
   "outputs": [],
   "source": []
  }
 ],
 "metadata": {
  "kernelspec": {
   "display_name": "Python 3",
   "language": "python",
   "name": "python3"
  },
  "language_info": {
   "codemirror_mode": {
    "name": "ipython",
    "version": 3
   },
   "file_extension": ".py",
   "mimetype": "text/x-python",
   "name": "python",
   "nbconvert_exporter": "python",
   "pygments_lexer": "ipython3",
   "version": "3.7.3"
  }
 },
 "nbformat": 4,
 "nbformat_minor": 4
}
