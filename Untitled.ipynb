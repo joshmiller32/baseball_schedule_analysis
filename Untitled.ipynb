{
 "cells": [
  {
   "cell_type": "code",
   "execution_count": 1,
   "metadata": {},
   "outputs": [],
   "source": [
    "import pandas as pd"
   ]
  },
  {
   "cell_type": "code",
   "execution_count": 2,
   "metadata": {},
   "outputs": [],
   "source": [
    "def get_schedule_df():\n",
    "    columns = [x for x in range(1,31)]\n",
    "    schedule_81= pd.read_csv('./Data/81_game_schedule.csv', usecols = columns)\n",
    "    schedule_110 = pd.read_csv('./Data/110_game_schedule.csv', usecols = columns)\n",
    "    schedule_140 = pd.read_csv('./Data/140_game_schedule.csv', usecols = columns)\n",
    "    schedule_162 = pd.read_csv('./Data/162_game_schedule.csv', usecols = columns)\n",
    "    dataframes_names = [schedule_81, schedule_110, schedule_140, schedule_162]\n",
    "    dataframes = []\n",
    "    for df in dataframes_names:\n",
    "        dataframes.append(df)\n",
    "    return dataframes"
   ]
  },
  {
   "cell_type": "code",
   "execution_count": 3,
   "metadata": {},
   "outputs": [],
   "source": [
    "def opp_win_pct():\n",
    "    dataframes = get_schedule_df()\n",
    "    opp_win_pct_dfs = []\n",
    "    for df in dataframes:\n",
    "        df = pd.DataFrame(df.mean(axis = 0))\n",
    "        df.columns = ['Opp_Win_Pct']\n",
    "        opp_win_pct_dfs.append(df)\n",
    "    return opp_win_pct_dfs\n",
    "    "
   ]
  },
  {
   "cell_type": "code",
   "execution_count": 4,
   "metadata": {},
   "outputs": [],
   "source": [
    "def pct_of_games_against_500_teams():\n",
    "    dataframes = get_schedule_df()\n",
    "    pct_games_against_500_dfs = []\n",
    "    for df in dataframes:\n",
    "        pct_games_over_500 = (df[df >= 0.5].count()) / (len(df))\n",
    "        pct_games_against_500_dfs.append(pct_games_over_500)\n",
    "    return pct_games_against_500_dfs"
   ]
  },
  {
   "cell_type": "code",
   "execution_count": 9,
   "metadata": {},
   "outputs": [],
   "source": [
    "def number_of_games_against_500_teams():\n",
    "    dataframes = get_schedule_df()\n",
    "    games_over_500_dfs = []\n",
    "    for df in dataframes:\n",
    "        games_over_500 = df[df >= 0.5].count()\n",
    "        games_over_500_dfs.append(games_over_500) \n",
    "    return games_over_500_dfs\n"
   ]
  },
  {
   "cell_type": "code",
   "execution_count": 10,
   "metadata": {},
   "outputs": [],
   "source": [
    "games_500 = number_of_games_against_500_teams()\n"
   ]
  },
  {
   "cell_type": "code",
   "execution_count": 20,
   "metadata": {},
   "outputs": [
    {
     "data": {
      "text/plain": [
       "<matplotlib.axes._subplots.AxesSubplot at 0x1917b342668>"
      ]
     },
     "execution_count": 20,
     "metadata": {},
     "output_type": "execute_result"
    },
    {
     "data": {
      "image/png": "[encoded data removed]",
      "text/plain": [
       "<Figure size 432x288 with 1 Axes>"
      ]
     },
     "metadata": {
      "needs_background": "light"
     },
     "output_type": "display_data"
    }
   ],
   "source": [
    "games_500[3].plot(kind = 'bar')"
   ]
  },
  {
   "cell_type": "code",
   "execution_count": null,
   "metadata": {},
   "outputs": [],
   "source": []
  },
  {
   "cell_type": "code",
   "execution_count": null,
   "metadata": {},
   "outputs": [],
   "source": []
  },
  {
   "cell_type": "code",
   "execution_count": null,
   "metadata": {},
   "outputs": [],
   "source": []
  },
  {
   "cell_type": "code",
   "execution_count": null,
   "metadata": {},
   "outputs": [],
   "source": []
  },
  {
   "cell_type": "code",
   "execution_count": null,
   "metadata": {},
   "outputs": [],
   "source": []
  },
  {
   "cell_type": "code",
   "execution_count": null,
   "metadata": {},
   "outputs": [],
   "source": []
  },
  {
   "cell_type": "code",
   "execution_count": null,
   "metadata": {},
   "outputs": [],
   "source": []
  }
 ],
 "metadata": {
  "kernelspec": {
   "display_name": "Python 3",
   "language": "python",
   "name": "python3"
  },
  "language_info": {
   "codemirror_mode": {
    "name": "ipython",
    "version": 3
   },
   "file_extension": ".py",
   "mimetype": "text/x-python",
   "name": "python",
   "nbconvert_exporter": "python",
   "pygments_lexer": "ipython3",
   "version": "3.7.3"
  }
 },
 "nbformat": 4,
 "nbformat_minor": 4
}
